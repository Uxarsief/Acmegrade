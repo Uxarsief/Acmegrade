{
 "cells": [
  {
   "cell_type": "code",
   "execution_count": 1,
   "id": "716f0cbf-33e3-4bf6-adaf-7f834dd6a171",
   "metadata": {},
   "outputs": [],
   "source": [
    "import tensorflow as tf\n",
    "from tensorflow.keras import layers, models\n",
    "from tensorflow.keras.datasets import mnist"
   ]
  },
  {
   "cell_type": "code",
   "execution_count": 2,
   "id": "0afbfef3-346e-4d7e-b66f-d5e37a116c27",
   "metadata": {},
   "outputs": [],
   "source": [
    "#processing data\n",
    "(train_images, train_labels), (test_images, test_labels) = mnist.load_data()\n",
    "\n",
    "train_images = train_images.reshape((60000, 28, 28, 1))\n",
    "test_images = test_images.reshape((10000, 28, 28, 1))\n",
    "\n",
    "train_images = train_images.astype('float32') / 255\n",
    "test_images = test_images.astype('float32') / 255\n",
    "\n",
    "train_labels = tf.keras.utils.to_categorical(train_labels, 10)\n",
    "test_labels = tf.keras.utils.to_categorical(test_labels, 10)"
   ]
  },
  {
   "cell_type": "code",
   "execution_count": 3,
   "id": "054e1a78-6ed8-44d4-a226-d01d5c0bcde5",
   "metadata": {},
   "outputs": [],
   "source": [
    "#cnn model\n",
    "model = models.Sequential()\n",
    "\n",
    "# Convolutional Layer 1\n",
    "model.add(layers.Conv2D(32, (3, 3), activation='relu', input_shape=(28, 28, 1)))\n",
    "model.add(layers.MaxPooling2D((2, 2)))\n",
    "\n",
    "# Convolutional Layer 2\n",
    "model.add(layers.Conv2D(64, (3, 3), activation='relu'))\n",
    "model.add(layers.MaxPooling2D((2, 2)))\n",
    "\n",
    "# Convolutional Layer 3\n",
    "model.add(layers.Conv2D(64, (3, 3), activation='relu'))\n",
    "\n",
    "# Fully Connected Layers\n",
    "model.add(layers.Flatten())\n",
    "model.add(layers.Dense(64, activation='relu'))\n",
    "model.add(layers.Dense(10, activation='softmax'))"
   ]
  },
  {
   "cell_type": "code",
   "execution_count": 4,
   "id": "7b56f6cc-514e-4ac0-b096-f41584a36f09",
   "metadata": {},
   "outputs": [],
   "source": [
    "#compile\n",
    "model.compile(optimizer='adam',\n",
    "              loss='categorical_crossentropy',\n",
    "              metrics=['accuracy'])"
   ]
  },
  {
   "cell_type": "code",
   "execution_count": 5,
   "id": "b325f1be-5c11-4568-9325-a5349a247286",
   "metadata": {},
   "outputs": [
    {
     "name": "stdout",
     "output_type": "stream",
     "text": [
      "Epoch 1/5\n",
      "938/938 [==============================] - 49s 49ms/step - loss: 0.1909 - accuracy: 0.9411 - val_loss: 0.0764 - val_accuracy: 0.9758\n",
      "Epoch 2/5\n",
      "938/938 [==============================] - 46s 49ms/step - loss: 0.0526 - accuracy: 0.9835 - val_loss: 0.0338 - val_accuracy: 0.9890\n",
      "Epoch 3/5\n",
      "938/938 [==============================] - 51s 54ms/step - loss: 0.0366 - accuracy: 0.9885 - val_loss: 0.0297 - val_accuracy: 0.9895\n",
      "Epoch 4/5\n",
      "938/938 [==============================] - 60s 64ms/step - loss: 0.0298 - accuracy: 0.9908 - val_loss: 0.0467 - val_accuracy: 0.9848\n",
      "Epoch 5/5\n",
      "938/938 [==============================] - 80s 85ms/step - loss: 0.0232 - accuracy: 0.9924 - val_loss: 0.0267 - val_accuracy: 0.9912\n"
     ]
    }
   ],
   "source": [
    "history = model.fit(train_images, train_labels, epochs=5, batch_size=64, validation_data=(test_images, test_labels))"
   ]
  },
  {
   "cell_type": "code",
   "execution_count": null,
   "id": "e059c9f0-60da-457a-ba01-e09f59fbe814",
   "metadata": {},
   "outputs": [],
   "source": [
    "test_loss, test_acc = model.evaluate(test_images, test_labels)\n",
    "print(f\"Test accuracy: {test_acc}\")"
   ]
  }
 ],
 "metadata": {
  "kernelspec": {
   "display_name": "Python 3 (ipykernel)",
   "language": "python",
   "name": "python3"
  },
  "language_info": {
   "codemirror_mode": {
    "name": "ipython",
    "version": 3
   },
   "file_extension": ".py",
   "mimetype": "text/x-python",
   "name": "python",
   "nbconvert_exporter": "python",
   "pygments_lexer": "ipython3",
   "version": "3.11.6"
  }
 },
 "nbformat": 4,
 "nbformat_minor": 5
}
